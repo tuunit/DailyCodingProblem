{
 "cells": [
  {
   "cell_type": "markdown",
   "metadata": {},
   "source": [
    "# Daily Coding Problem #2\n",
    "\n",
    "Given an array of integers, return a new array such that each element at index i of the new array is the product of all the numbers in the original array except the one at i.\n",
    "\n",
    "For example, if our input was [1, 2, 3, 4, 5],\n",
    "\n",
    "the expected output would be [120, 60, 40, 30, 24].\n",
    "\n",
    "If our input was [3, 2, 1], the expected output would be [2, 3, 6].\n",
    "\n",
    "Follow-up: what if you can't use division?"
   ]
  },
  {
   "cell_type": "code",
   "execution_count": 1,
   "metadata": {},
   "outputs": [],
   "source": [
    "ar = [1, 2, 3, 4, 5]"
   ]
  },
  {
   "cell_type": "markdown",
   "metadata": {},
   "source": [
    "## Solution 1\n",
    "Create a copy of the array and set the elements to the product of all values of the original array. Divide each element of the new array with the corresponding element from the original array."
   ]
  },
  {
   "cell_type": "code",
   "execution_count": 2,
   "metadata": {},
   "outputs": [
    {
     "data": {
      "text/plain": [
       "[120, 60, 40, 30, 24]"
      ]
     },
     "execution_count": 2,
     "metadata": {},
     "output_type": "execute_result"
    }
   ],
   "source": [
    "# There are a dozen ways of solving this task. This first solution utilizes numpy. \n",
    "# Another could be using accumulate from the itertools library\n",
    "import numpy as np\n",
    "\n",
    "def computeWithDivision(ar):\n",
    "    tmp = np.prod(ar)\n",
    "    new_ar = []\n",
    "    for n in ar:\n",
    "        new_ar.append(int(tmp/n))\n",
    "    return new_ar\n",
    "\n",
    "computeWithDivision(ar)"
   ]
  },
  {
   "cell_type": "markdown",
   "metadata": {},
   "source": [
    "## Solution 2\n",
    "Utilize the functional programming paradigm to reduce the array."
   ]
  },
  {
   "cell_type": "code",
   "execution_count": 3,
   "metadata": {},
   "outputs": [
    {
     "data": {
      "text/plain": [
       "[120, 60, 40, 30, 24]"
      ]
     },
     "execution_count": 3,
     "metadata": {},
     "output_type": "execute_result"
    }
   ],
   "source": [
    "from functools import reduce\n",
    "\n",
    "def computeWithDivisionImproved(ar):\n",
    "    tmp = reduce(lambda x, y: x*y, ar)\n",
    "    return [int(tmp/n) for n in ar]\n",
    "\n",
    "computeWithDivisionImproved(ar)"
   ]
  },
  {
   "cell_type": "markdown",
   "metadata": {},
   "source": [
    "## Solution 3\n",
    "Solution without division by slicing and multiplying the remaining terms but still using reduce."
   ]
  },
  {
   "cell_type": "code",
   "execution_count": 4,
   "metadata": {},
   "outputs": [
    {
     "data": {
      "text/plain": [
       "[120, 60, 40, 30, 24]"
      ]
     },
     "execution_count": 4,
     "metadata": {},
     "output_type": "execute_result"
    }
   ],
   "source": [
    "def computeWithoutDivision(ar):\n",
    "    new_ar = []\n",
    "    for i in range(len(ar)):\n",
    "        new_ar.append(reduce(lambda x, y: x*y, ar[:i] + ar[i+1:]))\n",
    "    return new_ar\n",
    "\n",
    "computeWithoutDivision(ar)"
   ]
  },
  {
   "cell_type": "markdown",
   "metadata": {},
   "source": [
    "## Performance Comparison"
   ]
  },
  {
   "cell_type": "code",
   "execution_count": 5,
   "metadata": {},
   "outputs": [
    {
     "name": "stdout",
     "output_type": "stream",
     "text": [
      "13.7 ms ± 1.01 ms per loop (mean ± std. dev. of 7 runs, 10 loops each)\n",
      "9.25 ms ± 656 µs per loop (mean ± std. dev. of 7 runs, 10 loops each)\n",
      "22.1 ms ± 617 µs per loop (mean ± std. dev. of 7 runs, 10 loops each)\n"
     ]
    }
   ],
   "source": [
    "ars = np.random.randint(1, 30, (1000, 10))\n",
    "\n",
    "%timeit -n10 [computeWithDivision(ar) for ar in ars]\n",
    "%timeit -n10 [computeWithDivisionImproved(ar) for ar in ars]\n",
    "%timeit -n10 [computeWithoutDivision(list(ar)) for ar in ars]"
   ]
  }
 ],
 "metadata": {
  "kernelspec": {
   "display_name": "Python 3",
   "language": "python",
   "name": "python3"
  },
  "language_info": {
   "codemirror_mode": {
    "name": "ipython",
    "version": 3
   },
   "file_extension": ".py",
   "mimetype": "text/x-python",
   "name": "python",
   "nbconvert_exporter": "python",
   "pygments_lexer": "ipython3",
   "version": "3.6.6"
  }
 },
 "nbformat": 4,
 "nbformat_minor": 2
}

{
 "cells": [
  {
   "cell_type": "markdown",
   "metadata": {},
   "source": [
    "# Daily Coding Problem #11\n",
    "\n",
    "Implement an autocomplete system. That is, given a query string s and a set of all possible query strings, return all strings in the set that have s as a prefix.\n",
    "\n",
    "For example, given the query string de and the set of strings [dog, deer, deal], return [deer, deal].\n",
    "\n",
    "Hint: Try preprocessing the dictionary into a more efficient data structure to speed up queries."
   ]
  },
  {
   "cell_type": "markdown",
   "metadata": {},
   "source": [
    "## Solution 1\n",
    "Very simple to understand solution but probably not the best idea for big arrays."
   ]
  },
  {
   "cell_type": "code",
   "execution_count": 1,
   "metadata": {},
   "outputs": [],
   "source": [
    "def autocomplete(query, arr): \n",
    "    complete = []\n",
    "    length = len(query)\n",
    "    for s in arr:\n",
    "        if s[:length] == query:\n",
    "            complete.append(s)\n",
    "    return complete"
   ]
  },
  {
   "cell_type": "code",
   "execution_count": 2,
   "metadata": {},
   "outputs": [
    {
     "data": {
      "text/plain": [
       "['deal', 'deer']"
      ]
     },
     "execution_count": 2,
     "metadata": {},
     "output_type": "execute_result"
    }
   ],
   "source": [
    "autocomplete(\"de\", [\"dog\", \"deal\", \"deer\"])"
   ]
  },
  {
   "cell_type": "markdown",
   "metadata": {},
   "source": [
    "## Solution 2"
   ]
  },
  {
   "cell_type": "code",
   "execution_count": 3,
   "metadata": {},
   "outputs": [],
   "source": [
    "class LookUpTable:\n",
    "    def __init__(self, value=\"\"):\n",
    "        self.value = value\n",
    "        self.children = []\n",
    "        \n",
    "    def build(self, word, tail):\n",
    "        exists = False\n",
    "        \n",
    "        for child in self.children:\n",
    "            if tail[0] == child.value:\n",
    "                if len(tail) > 1:\n",
    "                    child.build(word, tail[1:])\n",
    "                else:\n",
    "                    child.children.append(LookUpTable(word))\n",
    "                exists = True\n",
    "        \n",
    "        if not exists:\n",
    "            lookup = LookUpTable(tail[0])\n",
    "            self.children.append(lookup)\n",
    "            if len(tail) > 1:\n",
    "                lookup.build(word, tail[1:])\n",
    "            else:\n",
    "                lookup.children.append(LookUpTable(word))\n",
    "    \n",
    "    def autocomplete(self, query):\n",
    "        suggestions = []\n",
    "        if not query:\n",
    "            return self.__suggestions()\n",
    "        \n",
    "        for child in self.children:\n",
    "            if query[0] == child.value:\n",
    "                suggestions.extend(child.autocomplete(query[1:]))\n",
    "        return suggestions\n",
    "                    \n",
    "    def __suggestions(self):\n",
    "        suggestions = []\n",
    "        if self.children == []:\n",
    "            return [self.value]\n",
    "        \n",
    "        for child in self.children:\n",
    "            suggestions.extend(child.__suggestions())\n",
    "        return suggestions"
   ]
  },
  {
   "cell_type": "code",
   "execution_count": 4,
   "metadata": {},
   "outputs": [],
   "source": [
    "root = LookUpTable()\n",
    "queryStrings = [\"dog\", \"deer\", \"deal\", \"fridge\", \"kitchen\", \"cat\", \"dough\", \"friday\", \"freighter\"]\n",
    "for query in queryStrings:\n",
    "    root.build(query.lower(), query.lower())"
   ]
  },
  {
   "cell_type": "code",
   "execution_count": 5,
   "metadata": {},
   "outputs": [
    {
     "name": "stdout",
     "output_type": "stream",
     "text": [
      "Query: de \t |\t Suggestions: ['deer', 'deal']\n",
      "Query: fr \t |\t Suggestions: ['fridge', 'friday', 'freighter']\n",
      "Query: fri \t |\t Suggestions: ['fridge', 'friday']\n",
      "Query: do \t |\t Suggestions: ['dog', 'dough']\n"
     ]
    }
   ],
   "source": [
    "query = \"de\"\n",
    "print(f'Query: {query} \\t |\\t Suggestions: {root.autocomplete(query)}')\n",
    "\n",
    "query = \"fr\"\n",
    "root.autocomplete(query)\n",
    "print(f'Query: {query} \\t |\\t Suggestions: {root.autocomplete(query)}')\n",
    "\n",
    "query = \"fri\"\n",
    "print(f'Query: {query} \\t |\\t Suggestions: {root.autocomplete(query)}')\n",
    "\n",
    "query = \"do\"\n",
    "print(f'Query: {query} \\t |\\t Suggestions: {root.autocomplete(query)}')"
   ]
  }
 ],
 "metadata": {
  "kernelspec": {
   "display_name": "Python 3",
   "language": "python",
   "name": "python3"
  },
  "language_info": {
   "codemirror_mode": {
    "name": "ipython",
    "version": 3
   },
   "file_extension": ".py",
   "mimetype": "text/x-python",
   "name": "python",
   "nbconvert_exporter": "python",
   "pygments_lexer": "ipython3",
   "version": "3.6.6"
  },
  "toc": {
   "base_numbering": 1,
   "nav_menu": {},
   "number_sections": true,
   "sideBar": true,
   "skip_h1_title": false,
   "title_cell": "Table of Contents",
   "title_sidebar": "Contents",
   "toc_cell": false,
   "toc_position": {},
   "toc_section_display": true,
   "toc_window_display": false
  }
 },
 "nbformat": 4,
 "nbformat_minor": 2
}

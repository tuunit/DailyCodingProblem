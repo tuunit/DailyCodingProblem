{
 "cells": [
  {
   "cell_type": "markdown",
   "metadata": {},
   "source": [
    "# Daily Coding Problem #1\n",
    "\n",
    "Given a list of numbers and a number k, return whether any two numbers from the list add up to k.\n",
    "\n",
    "For example, given [10, 15, 3, 7] and k of 17, return true since 10 + 7 is 17.\n",
    "\n",
    "Bonus: Can you do this in one pass?"
   ]
  },
  {
   "cell_type": "code",
   "execution_count": 1,
   "metadata": {},
   "outputs": [],
   "source": [
    "# This array and k have a solution: 10 + 7 = 17\n",
    "k_t = 17\n",
    "ar_t = [10, 15, 3, 7]\n",
    "\n",
    "# This array and k have no solution \n",
    "k_f = 17\n",
    "ar_f = [9, 15, 3, 7]"
   ]
  },
  {
   "cell_type": "markdown",
   "metadata": {},
   "source": [
    "## Solution 1\n",
    "There are obviously several solutions. The easiest to understand is to iterate over all elements for every other element and stop when the first possible solution was found."
   ]
  },
  {
   "cell_type": "code",
   "execution_count": 2,
   "metadata": {},
   "outputs": [
    {
     "name": "stdout",
     "output_type": "stream",
     "text": [
      "10 + 7 = 17\n"
     ]
    },
    {
     "data": {
      "text/plain": [
       "True"
      ]
     },
     "execution_count": 2,
     "metadata": {},
     "output_type": "execute_result"
    }
   ],
   "source": [
    "def findTermSimple(k, ar, verbose=False):\n",
    "    for n in ar:\n",
    "        for m in ar:\n",
    "            if n + m == k:\n",
    "                if verbose: print(f'{n} + {m} = {k}')\n",
    "                return True\n",
    "    return False\n",
    "\n",
    "findTermSimple(k_t, ar_t, True) == True and \\\n",
    "findTermSimple(k_f, ar_f, True) == False"
   ]
  },
  {
   "cell_type": "markdown",
   "metadata": {},
   "source": [
    "### Improvement\n",
    "For a slight performance improvement all previously tested elements can be ignored in the inner loop."
   ]
  },
  {
   "cell_type": "code",
   "execution_count": 3,
   "metadata": {},
   "outputs": [
    {
     "name": "stdout",
     "output_type": "stream",
     "text": [
      "10 + 7 = 17\n"
     ]
    },
    {
     "data": {
      "text/plain": [
       "True"
      ]
     },
     "execution_count": 3,
     "metadata": {},
     "output_type": "execute_result"
    }
   ],
   "source": [
    "def findTermSimpleImp(k, ar, verbose=False):\n",
    "    for i, n in enumerate(ar):\n",
    "        for m in ar[i:]:\n",
    "            if n + m == k:\n",
    "                if verbose: print(f'{n} + {m} = {k}')\n",
    "                return True\n",
    "    return False\n",
    "\n",
    "findTermSimpleImp(k_t, ar_t, True) == True and \\\n",
    "findTermSimpleImp(k_f, ar_f, True) == False"
   ]
  },
  {
   "cell_type": "markdown",
   "metadata": {},
   "source": [
    "### Intermediate conclusion\n",
    "Both variants give the same output and work perfectly fine but the improved version tends to be a bit faster on average as can be seen in the testing section further down.\n",
    "\n",
    "## Solution 2\n",
    "Another solution would be a fairly simple algorithm uses a sorted array to find the terms for a sum.\n",
    "\n",
    "### Algorithm\n",
    "\n",
    "1. Sort array (Standard Python _sorted_ function. Which uses Timsort a hybrid of merge sort and insertion sort)\n",
    "\n",
    "\n",
    "2. Set two indices l (left) and r (right)\n",
    "    1. l = 0\n",
    "    2. r = len(array) - 1\n",
    "    \n",
    "    \n",
    "3. Go through array by increasing l and decreasing r as long as elements l + r != k\n",
    "    1. If elements l + r equal k stop\n",
    "    2. Else if elements l + r smaller than k increase l\n",
    "    3. Else if elements l + r greater than k decrease r"
   ]
  },
  {
   "cell_type": "code",
   "execution_count": 4,
   "metadata": {},
   "outputs": [
    {
     "name": "stdout",
     "output_type": "stream",
     "text": [
      "7 + 10 = 17\n"
     ]
    },
    {
     "data": {
      "text/plain": [
       "True"
      ]
     },
     "execution_count": 4,
     "metadata": {},
     "output_type": "execute_result"
    }
   ],
   "source": [
    "def findTermOnePass(k, ar, verbose=False):\n",
    "    ar = sorted(ar)\n",
    "    l = 0\n",
    "    r = len(ar)-1\n",
    "    while l < r:\n",
    "        if ar[l] + ar[r] == k:\n",
    "            if verbose: print(f'{ar[l]} + {ar[r]} = {k}')\n",
    "            return True\n",
    "        elif ar[l] + ar[r] < k:\n",
    "            l += 1\n",
    "        else:\n",
    "            r -= 1\n",
    "    return False\n",
    "\n",
    "findTermOnePass(k_t, ar_t, True) == True and \\\n",
    "findTermOnePass(k_f, ar_f, True) == False"
   ]
  },
  {
   "cell_type": "markdown",
   "metadata": {},
   "source": [
    "## Testing\n",
    "For testing purposes we generate several random arrays and randoms k's with numpy and compare the performance of the three solutions by timing them."
   ]
  },
  {
   "cell_type": "code",
   "execution_count": 5,
   "metadata": {},
   "outputs": [
    {
     "name": "stdout",
     "output_type": "stream",
     "text": [
      "Computational time for zipping the values is marginal.\n",
      "515 ns ± 160 ns per loop (mean ± std. dev. of 7 runs, 10 loops each)\n",
      "\n",
      "Simple Loop:\n",
      "192 ms ± 7.13 ms per loop (mean ± std. dev. of 7 runs, 10 loops each)\n",
      "Improved Loop:\n",
      "151 ms ± 22.9 ms per loop (mean ± std. dev. of 7 runs, 10 loops each)\n",
      "Sorted One-Pass:\n",
      "86.2 ms ± 3.35 ms per loop (mean ± std. dev. of 7 runs, 10 loops each)\n"
     ]
    }
   ],
   "source": [
    "import numpy as np\n",
    "\n",
    "ars = np.random.randint(1, 30, (1000, np.random.randint(100, 1000)))\n",
    "ks = np.random.randint(1, 50, 1000)\n",
    "\n",
    "print('Computational time for zipping the values is marginal.')\n",
    "%timeit -n10 zip(ks, ars)\n",
    "print()\n",
    "\n",
    "print('Simple Loop:')\n",
    "%timeit -n10 [findTermSimple(k, ar) for k, ar in zip(ks, ars)]\n",
    "print('Improved Loop:')\n",
    "%timeit -n10 [findTermSimpleImp(k, ar) for k, ar in zip(ks, ars)]\n",
    "print('Sorted One-Pass:')\n",
    "%timeit -n10 [findTermOnePass(k, ar) for k, ar in zip(ks, ars)]"
   ]
  },
  {
   "cell_type": "markdown",
   "metadata": {},
   "source": [
    "## Final Conclusion\n",
    "The first solution and the improved version are fairly intuitive and easy to understand but take more time to compute on average especially for larger arrays and arrays without a solution."
   ]
  }
 ],
 "metadata": {
  "kernelspec": {
   "display_name": "Python 3",
   "language": "python",
   "name": "python3"
  },
  "language_info": {
   "codemirror_mode": {
    "name": "ipython",
    "version": 3
   },
   "file_extension": ".py",
   "mimetype": "text/x-python",
   "name": "python",
   "nbconvert_exporter": "python",
   "pygments_lexer": "ipython3",
   "version": "3.6.6"
  }
 },
 "nbformat": 4,
 "nbformat_minor": 2
}

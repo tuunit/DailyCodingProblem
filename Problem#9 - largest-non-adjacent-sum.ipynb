{
 "cells": [
  {
   "cell_type": "markdown",
   "metadata": {},
   "source": [
    "# Daily Coding Problem #9\n",
    "\n",
    "Given a list of integers, write a function that returns the largest sum of non-adjacent numbers. Numbers can be 0 or negative.\n",
    "\n",
    "For example, [2, 4, 6, 2, 5] should return 13, since we pick 2, 6, and 5. [5, 1, 1, 5] should return 10, since we pick 5 and 5.\n",
    "\n",
    "Follow-up: Can you do this in O(N) time and constant space?"
   ]
  },
  {
   "cell_type": "markdown",
   "metadata": {},
   "source": [
    "## Solution\n",
    "The following solution has a computational complexity of O(N) and uses constant space. Only two integers a"
   ]
  },
  {
   "cell_type": "code",
   "execution_count": 1,
   "metadata": {},
   "outputs": [],
   "source": [
    "def find_maximum(arr): \n",
    "    incl = 0\n",
    "    excl = 0\n",
    "     \n",
    "    for n in arr:\n",
    "        new_excl = excl if excl > incl else incl\n",
    "        \n",
    "        incl = excl + n\n",
    "        excl = new_excl\n",
    "        \n",
    "    return excl if excl > incl else incl"
   ]
  },
  {
   "cell_type": "markdown",
   "metadata": {},
   "source": [
    "## Testing"
   ]
  },
  {
   "cell_type": "code",
   "execution_count": 2,
   "metadata": {},
   "outputs": [],
   "source": [
    "assert find_maximum([2]) == 2\n",
    "assert find_maximum([2, 3]) == 3\n",
    "assert find_maximum([1, 1, 1, 1, 1, 1]) == 3\n",
    "assert find_maximum([2, 4, 6, 2, 5]) == 13\n",
    "assert find_maximum([5, 1, 1, 5]) == 10\n",
    "assert find_maximum([4, 1, 1, 4, 2, 1]) == 9\n",
    "assert find_maximum([9,6,1,8,3,5]) == 22"
   ]
  }
 ],
 "metadata": {
  "kernelspec": {
   "display_name": "Python 3",
   "language": "python",
   "name": "python3"
  },
  "language_info": {
   "codemirror_mode": {
    "name": "ipython",
    "version": 3
   },
   "file_extension": ".py",
   "mimetype": "text/x-python",
   "name": "python",
   "nbconvert_exporter": "python",
   "pygments_lexer": "ipython3",
   "version": "3.6.6"
  },
  "toc": {
   "base_numbering": 1,
   "nav_menu": {},
   "number_sections": true,
   "sideBar": true,
   "skip_h1_title": false,
   "title_cell": "Table of Contents",
   "title_sidebar": "Contents",
   "toc_cell": false,
   "toc_position": {},
   "toc_section_display": true,
   "toc_window_display": false
  }
 },
 "nbformat": 4,
 "nbformat_minor": 2
}

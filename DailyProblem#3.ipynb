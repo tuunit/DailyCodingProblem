{
 "cells": [
  {
   "cell_type": "markdown",
   "metadata": {},
   "source": [
    "# Daily Coding Problem #3\n",
    "\n",
    "Given the root to a binary tree, implement serialize(root), which serializes the tree into a string, and deserialize(s), which deserializes the string back into the tree.\n",
    "\n",
    "For example, given the following Node class"
   ]
  },
  {
   "cell_type": "code",
   "execution_count": 1,
   "metadata": {},
   "outputs": [],
   "source": [
    "class Node:\n",
    "    def __init__(self, val, left=None, right=None):\n",
    "        self.val = val\n",
    "        self.left = left\n",
    "        self.right = right"
   ]
  },
  {
   "cell_type": "markdown",
   "metadata": {},
   "source": [
    "The following test should pass:\n",
    "\n",
    "```python\n",
    "node = Node('root', Node('left', Node('left.left')), Node('right'))\n",
    "assert deserialize(serialize(node)).left.left.val == 'left.left'\n",
    "```"
   ]
  },
  {
   "cell_type": "markdown",
   "metadata": {},
   "source": [
    "## Solution"
   ]
  },
  {
   "cell_type": "code",
   "execution_count": 2,
   "metadata": {},
   "outputs": [],
   "source": [
    "def serialize(node):\n",
    "    if node.left and node.right:\n",
    "        return '{\"val\": \"' + str(node.val) + '\", \"left\": ' + serialize(node.left) + ', \"right\": ' + serialize(node.right) + '}' \n",
    "    elif node.left:\n",
    "        return '{\"val\": \"' + str(node.val) + '\", \"left\": ' + serialize(node.left) + '}' \n",
    "    elif node.right:\n",
    "        return '{\"val\": \"' + str(node.val) + '\", \"right\": ' + serialize(node.right) + '}'\n",
    "    return '{\"val\": \"' + str(node.val) + '\"}'"
   ]
  },
  {
   "cell_type": "code",
   "execution_count": 3,
   "metadata": {},
   "outputs": [],
   "source": [
    "node = Node('root', Node('left', Node('left.left')), Node('right'))"
   ]
  },
  {
   "cell_type": "code",
   "execution_count": 4,
   "metadata": {},
   "outputs": [
    {
     "name": "stdout",
     "output_type": "stream",
     "text": [
      "{\"val\": \"root\", \"left\": {\"val\": \"left\", \"left\": {\"val\": \"left.left\"}}, \"right\": {\"val\": \"right\"}}\n"
     ]
    }
   ],
   "source": [
    "node = serialize(node)\n",
    "print(node)"
   ]
  },
  {
   "cell_type": "code",
   "execution_count": 5,
   "metadata": {},
   "outputs": [],
   "source": [
    "import json"
   ]
  },
  {
   "cell_type": "code",
   "execution_count": 6,
   "metadata": {},
   "outputs": [],
   "source": [
    "def deserialize(node):\n",
    "    if type(node) == Node:\n",
    "        return Node\n",
    "    elif type(node) == str:\n",
    "        node = json.loads(node)\n",
    "        return deserialize(node)\n",
    "    elif type(node) == dict:\n",
    "        if ('left' and 'right') in node:\n",
    "            return Node(node['val'], deserialize(node['left']), deserialize(node['right']))\n",
    "        elif 'left' in node:\n",
    "            return Node(node['val'], deserialize(node['left']))\n",
    "        elif 'right' in node:\n",
    "            return Node(node['val'], None, deserialize(node['right']))\n",
    "        return Node(node['val'])\n",
    "    else:\n",
    "        return False"
   ]
  },
  {
   "cell_type": "markdown",
   "metadata": {},
   "source": [
    "## Assertion Tests"
   ]
  },
  {
   "cell_type": "code",
   "execution_count": 7,
   "metadata": {},
   "outputs": [],
   "source": [
    "node = Node('root', Node('left', Node('left.left')), Node('right'))\n",
    "assert deserialize(serialize(node)).val == 'root'\n",
    "assert deserialize(serialize(node)).left.val == 'left'\n",
    "assert deserialize(serialize(node)).left.left.val == 'left.left'\n",
    "assert deserialize(serialize(node)).right.val == 'right'\n",
    "assert deserialize(serialize(node)).right.left == None"
   ]
  },
  {
   "cell_type": "markdown",
   "metadata": {},
   "source": [
    "Everything works as expected :)"
   ]
  }
 ],
 "metadata": {
  "kernelspec": {
   "display_name": "Python 3",
   "language": "python",
   "name": "python3"
  },
  "language_info": {
   "codemirror_mode": {
    "name": "ipython",
    "version": 3
   },
   "file_extension": ".py",
   "mimetype": "text/x-python",
   "name": "python",
   "nbconvert_exporter": "python",
   "pygments_lexer": "ipython3",
   "version": "3.6.6"
  },
  "toc": {
   "base_numbering": 1,
   "nav_menu": {},
   "number_sections": true,
   "sideBar": true,
   "skip_h1_title": false,
   "title_cell": "Table of Contents",
   "title_sidebar": "Contents",
   "toc_cell": false,
   "toc_position": {},
   "toc_section_display": true,
   "toc_window_display": false
  }
 },
 "nbformat": 4,
 "nbformat_minor": 2
}

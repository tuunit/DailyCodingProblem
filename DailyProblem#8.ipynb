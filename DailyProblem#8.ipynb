{
 "cells": [
  {
   "cell_type": "markdown",
   "metadata": {},
   "source": [
    "# Daily Coding Problem #8\n",
    "\n",
    "A unival tree (which stands for \"universal value\") is a tree where all nodes under it have the same value.\n",
    "\n",
    "Given the root to a binary tree, count the number of unival subtrees.\n",
    "\n",
    "For example, the following tree has 5 unival subtrees:\n",
    "\n",
    "\n",
    "```\n",
    "   0\n",
    "  / \\\n",
    " 1   0\n",
    "    / \\\n",
    "   1   0\n",
    "  / \\\n",
    " 1   1\n",
    "```"
   ]
  },
  {
   "cell_type": "markdown",
   "metadata": {},
   "source": [
    "## Solution\n",
    "\n",
    "First lets implement a simple BinaryTree class."
   ]
  },
  {
   "cell_type": "code",
   "execution_count": 7,
   "metadata": {},
   "outputs": [],
   "source": [
    "class BinaryTree:\n",
    "    def __init__(self, value, left=None, right=None):\n",
    "        self.value = value\n",
    "        \n",
    "        if left is not None:\n",
    "            self.left = left if type(left) == BinaryTree else BinaryTree(left)\n",
    "        else:\n",
    "            self.left = None\n",
    "            \n",
    "        if right is not None:\n",
    "            self.right = right if type(right) == BinaryTree else BinaryTree(right)\n",
    "        else:\n",
    "            self.right = None\n",
    "    \n",
    "    @property\n",
    "    def is_leaf(self):\n",
    "        return self.left is None and self.right is None"
   ]
  },
  {
   "cell_type": "code",
   "execution_count": 28,
   "metadata": {},
   "outputs": [],
   "source": [
    "def is_unival(tree, value=None):\n",
    "    if value == None:\n",
    "        value = tree.value\n",
    "    elif value != tree.value:\n",
    "        return False\n",
    "    \n",
    "    if tree.is_leaf:\n",
    "        return True\n",
    "    elif tree.left and tree.right:\n",
    "        return is_unival(tree.left, value) and is_unival(tree.right, value)\n",
    "    elif tree.left:\n",
    "        return is_unival(tree.left, value)\n",
    "    else:\n",
    "        return is_unival(tree.right, value)"
   ]
  },
  {
   "cell_type": "code",
   "execution_count": 40,
   "metadata": {},
   "outputs": [],
   "source": [
    "# just to be more handy\n",
    "BT = BinaryTree"
   ]
  },
  {
   "cell_type": "code",
   "execution_count": 51,
   "metadata": {},
   "outputs": [],
   "source": [
    "tree = BT(1)\n",
    "assert is_unival(tree) == True\n",
    "tree = BT(1, BT(1), BT(1))\n",
    "assert is_unival(tree) == True\n",
    "tree = BT(1, BT(1), BT(2))\n",
    "assert is_unival(tree) == False\n",
    "tree = BT(1, BT(1), BT(1, None, BT(2)))\n",
    "assert is_unival(tree) == False\n",
    "tree = BT(1, BT(1, BT(1)), BT(1))\n",
    "assert is_unival(tree) == True"
   ]
  },
  {
   "cell_type": "markdown",
   "metadata": {},
   "source": [
    "After implementing the `BinaryTree` class, the `is_unival` function and a little bit of testing to verify the implementation, we can move on to find the solution to our main challenge."
   ]
  },
  {
   "cell_type": "code",
   "execution_count": 49,
   "metadata": {},
   "outputs": [],
   "source": [
    "def countUnivalSubTrees(tree):\n",
    "    if tree == None:\n",
    "        return 0\n",
    "    elif tree.is_leaf:\n",
    "        return 1\n",
    "    return countUnivalSubTrees(tree.left) + countUnivalSubTrees(tree.right) + int(is_unival(tree))"
   ]
  },
  {
   "cell_type": "markdown",
   "metadata": {},
   "source": [
    "## Testing\n",
    "```\n",
    "   0\n",
    "  / \\\n",
    " 1   0\n",
    "    / \\\n",
    "   1   0\n",
    "  / \\\n",
    " 1   1\n",
    "```"
   ]
  },
  {
   "cell_type": "code",
   "execution_count": null,
   "metadata": {},
   "outputs": [],
   "source": [
    "tree = BT(0, BT(1), BT(0, BT(1, BT(1), BT(1)), BT(0)))\n",
    "assert countUnivalSubTrees(tree) == 5"
   ]
  },
  {
   "cell_type": "markdown",
   "metadata": {},
   "source": [
    "```\n",
    "   0\n",
    "  / \\\n",
    " 1   0\n",
    "    / \\\n",
    "   0   0\n",
    "  / \\\n",
    " 1   1\n",
    "```"
   ]
  },
  {
   "cell_type": "code",
   "execution_count": 56,
   "metadata": {},
   "outputs": [],
   "source": [
    "tree = BT(0, BT(1, BT(1, BT(1), BT(1))), BT(0, BT(0), BT(0, None, BT(0))))\n",
    "assert countUnivalSubTrees(tree) == 8"
   ]
  },
  {
   "cell_type": "markdown",
   "metadata": {},
   "source": [
    "```\n",
    "   0\n",
    "  / \\\n",
    " 1   0\n",
    " |  / \\\n",
    " 1 0   0\n",
    "/ \\     \\\n",
    "1 1      0\n",
    "```"
   ]
  },
  {
   "cell_type": "code",
   "execution_count": null,
   "metadata": {},
   "outputs": [],
   "source": []
  }
 ],
 "metadata": {
  "kernelspec": {
   "display_name": "Python 3",
   "language": "python",
   "name": "python3"
  },
  "language_info": {
   "codemirror_mode": {
    "name": "ipython",
    "version": 3
   },
   "file_extension": ".py",
   "mimetype": "text/x-python",
   "name": "python",
   "nbconvert_exporter": "python",
   "pygments_lexer": "ipython3",
   "version": "3.6.6"
  },
  "toc": {
   "base_numbering": 1,
   "nav_menu": {},
   "number_sections": true,
   "sideBar": true,
   "skip_h1_title": false,
   "title_cell": "Table of Contents",
   "title_sidebar": "Contents",
   "toc_cell": false,
   "toc_position": {},
   "toc_section_display": true,
   "toc_window_display": false
  }
 },
 "nbformat": 4,
 "nbformat_minor": 2
}

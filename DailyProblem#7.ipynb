{
 "cells": [
  {
   "cell_type": "markdown",
   "metadata": {},
   "source": [
    "# Daily Coding Problem #7\n",
    "\n",
    "Given the mapping a = 1, b = 2, ... z = 26, and an encoded message, count the number of ways it can be decoded.\n",
    "\n",
    "For example, the message '111' would give 3, since it could be decoded as 'aaa', 'ka', and 'ak'.\n",
    "\n",
    "You can assume that the messages are decodable. For example, '001' is not allowed."
   ]
  },
  {
   "cell_type": "markdown",
   "metadata": {},
   "source": [
    "## Solution"
   ]
  },
  {
   "cell_type": "code",
   "execution_count": 1,
   "metadata": {},
   "outputs": [],
   "source": [
    "def checkEncoding(message):\n",
    "    i = int(float(message))\n",
    "    if i >= 1 and i <= 26:\n",
    "        return 1\n",
    "    return 0"
   ]
  },
  {
   "cell_type": "markdown",
   "metadata": {},
   "source": [
    "- Because we can assume that the messages are decodable, every message of the length of `1` returns `1`.\n",
    "- For every message with the length of `2` the full number has to be checked to be in between `1` and `26`.\n",
    "- For messages longer than `2` we utilize recursion to go through the whole message\n",
    "  - Remove the first character from the message and parse the new message on to `encodeMessage`\n",
    "  - Check if the first two characters are a number in between `1` and `26`. If so then encode the remaining message\n",
    "  - Add up both evaluations"
   ]
  },
  {
   "cell_type": "code",
   "execution_count": 2,
   "metadata": {},
   "outputs": [],
   "source": [
    "def encodeMessage(message):\n",
    "    if len(message) == 1:\n",
    "        return 1\n",
    "    elif len(message) == 2:\n",
    "        return checkEncoding(message) + 1\n",
    "    return encodeMessage(message[1:]) + checkEncoding(message[0:2]) * encodeMessage(message[2:])"
   ]
  },
  {
   "cell_type": "code",
   "execution_count": 3,
   "metadata": {},
   "outputs": [],
   "source": [
    "assert encodeMessage('1111') == 5\n",
    "# a = 1, k = 11\n",
    "# aaaa\n",
    "# aak\n",
    "# aka\n",
    "# kaa\n",
    "# kk"
   ]
  },
  {
   "cell_type": "code",
   "execution_count": 4,
   "metadata": {},
   "outputs": [],
   "source": [
    "assert encodeMessage('111') == 3\n",
    "# a = 1, k = 11\n",
    "# aaa\n",
    "# ak\n",
    "# ka"
   ]
  },
  {
   "cell_type": "code",
   "execution_count": 5,
   "metadata": {},
   "outputs": [],
   "source": [
    "assert encodeMessage('19321') == 4\n",
    "# a = 1, b = 2, c = 3, i = 9, s = 19, u = 21\n",
    "# aicba\n",
    "# aicu\n",
    "# tcu\n",
    "# tcba"
   ]
  },
  {
   "cell_type": "code",
   "execution_count": 6,
   "metadata": {},
   "outputs": [],
   "source": [
    "assert encodeMessage('26') == 2\n",
    "assert encodeMessage('27') == 1"
   ]
  }
 ],
 "metadata": {
  "kernelspec": {
   "display_name": "Python 3",
   "language": "python",
   "name": "python3"
  },
  "language_info": {
   "codemirror_mode": {
    "name": "ipython",
    "version": 3
   },
   "file_extension": ".py",
   "mimetype": "text/x-python",
   "name": "python",
   "nbconvert_exporter": "python",
   "pygments_lexer": "ipython3",
   "version": "3.6.6"
  },
  "toc": {
   "base_numbering": 1,
   "nav_menu": {},
   "number_sections": true,
   "sideBar": true,
   "skip_h1_title": false,
   "title_cell": "Table of Contents",
   "title_sidebar": "Contents",
   "toc_cell": false,
   "toc_position": {},
   "toc_section_display": true,
   "toc_window_display": false
  }
 },
 "nbformat": 4,
 "nbformat_minor": 2
}

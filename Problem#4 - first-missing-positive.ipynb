{
 "cells": [
  {
   "cell_type": "markdown",
   "metadata": {},
   "source": [
    "# Daily Coding Problem #4\n",
    "\n",
    "Given an array of integers, find the first missing positive integer in linear time and constant space. In other words, find the lowest positive integer that does not exist in the array. The array can contain duplicates and negative numbers as well.\n",
    "\n",
    "For example, the input [3, 4, -1, 1] should give 2. The input [1, 2, 0] should give 3.\n",
    "\n",
    "You can modify the input array in-place."
   ]
  },
  {
   "cell_type": "code",
   "execution_count": 1,
   "metadata": {},
   "outputs": [],
   "source": [
    "arr_one = [3, 4, -1, 1]\n",
    "k_one = 2\n",
    "\n",
    "arr_two = [1, 2, 0]\n",
    "k_two = 3"
   ]
  },
  {
   "cell_type": "markdown",
   "metadata": {},
   "source": [
    "## Solution 1\n",
    "For this solution the array has to be sorted. By using Timsort the complexity will be $O(n \\times log(n))$."
   ]
  },
  {
   "cell_type": "code",
   "execution_count": 2,
   "metadata": {},
   "outputs": [],
   "source": [
    "def firstMissingPositiveSort(arr):\n",
    "    if len(arr) == 0:\n",
    "        return 1\n",
    "    arr = sorted(arr)\n",
    "    \n",
    "    lowest = float('inf')\n",
    "    offset = -1\n",
    "    missing = -1\n",
    "    \n",
    "    for i, n in enumerate(arr):\n",
    "        if n <= lowest and n > 0:\n",
    "            lowest = n\n",
    "            offset = i\n",
    "            if lowest > 1:\n",
    "                return 1\n",
    "        elif offset != -1 and missing == -1:\n",
    "            if lowest + i - offset != n:\n",
    "                missing = lowest + i - offset\n",
    "        elif missing == n:\n",
    "            missing = -1\n",
    "\n",
    "    if missing != -1:\n",
    "        return missing\n",
    "    elif arr[-1] < 1:\n",
    "        return 1\n",
    "    return arr[-1] + 1"
   ]
  },
  {
   "cell_type": "code",
   "execution_count": 3,
   "metadata": {},
   "outputs": [
    {
     "data": {
      "text/plain": [
       "2"
      ]
     },
     "execution_count": 3,
     "metadata": {},
     "output_type": "execute_result"
    }
   ],
   "source": [
    "firstMissingPositiveSort(arr_one)"
   ]
  },
  {
   "cell_type": "markdown",
   "metadata": {},
   "source": [
    "## Assertion Tests"
   ]
  },
  {
   "cell_type": "code",
   "execution_count": 5,
   "metadata": {},
   "outputs": [],
   "source": [
    "assert firstMissingPositiveSort(arr_one) == k_one\n",
    "assert firstMissingPositiveSort(arr_two) == k_two\n",
    "assert firstMissingPositiveSort([]) == 1\n",
    "assert firstMissingPositiveSort([-1]) == 1\n",
    "assert firstMissingPositiveSort([-1, -1, -1, -1]) == 1\n",
    "assert firstMissingPositiveSort([2]) == 1\n",
    "assert firstMissingPositiveSort([1, 1, 1, -1, 0, 2, 6, 3]) == 4\n",
    "assert firstMissingPositiveSort([2, 2, 1, 0, -1]) == 3\n",
    "assert firstMissingPositiveSort([2, 2, 0]) == 1"
   ]
  }
 ],
 "metadata": {
  "kernelspec": {
   "display_name": "Python 3",
   "language": "python",
   "name": "python3"
  },
  "language_info": {
   "codemirror_mode": {
    "name": "ipython",
    "version": 3
   },
   "file_extension": ".py",
   "mimetype": "text/x-python",
   "name": "python",
   "nbconvert_exporter": "python",
   "pygments_lexer": "ipython3",
   "version": "3.6.6"
  },
  "toc": {
   "base_numbering": 1,
   "nav_menu": {},
   "number_sections": true,
   "sideBar": true,
   "skip_h1_title": false,
   "title_cell": "Table of Contents",
   "title_sidebar": "Contents",
   "toc_cell": false,
   "toc_position": {},
   "toc_section_display": true,
   "toc_window_display": false
  }
 },
 "nbformat": 4,
 "nbformat_minor": 2
}
